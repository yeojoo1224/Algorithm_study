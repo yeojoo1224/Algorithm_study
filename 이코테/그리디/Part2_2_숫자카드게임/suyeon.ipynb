#숫자 카드 게임
n, m = map(int, input().split())
min = 0

for i in range(m):
  num = list(map(int,input().split()))
  num.sort() #오름차순 정렬 
  if(num[0]>min): #최소보다 크면
    min = num[0]  #최소값을 min에 집어넣음

print(min)

#숫자 카드게임 모범답안 1
n, m = map(int, input().split())

result = 0

for i in range(n):
  data = list(map(int,input().split()))
  min_value = min(data)
  res = max(res, min_value)

print(res)

#숫자 카드게임 모범답안 2
n, m = map(int, input().split())

res = 0

for i in range(n):
  data = list(map(int,input().split()))
  min_value = 10001
  for a in data:
    min_value: min(min_value, a)
  
  res = max(res, min_value)

print(res)
