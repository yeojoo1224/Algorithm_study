#1이 될때까지
n,k = map(int, input().split())
result =0

while n!=1:
  if n%k==0:
    n = n//k
    result+=1
  else:
    n -=1
    result+=1

print(result)

#1이 될때까지 (미리 다 빼는 ver)
n, k = map(int, input().split())
remainder =0

while n>=k:
  target = (n//k)*k #나누어 떨어지는 수 만들기 24 6 
  remainder += n - target #r=1 4 
  n = target              #n=24 6 
  n = n//k                #n=8 2 
  remainder+=1            #r=2 5 

while n!=1:
  n-=1
  remainder+=1

print(remainder)

#1이 될때까지 (미리 다 빼는 ver) 모범답안
n,k = map(int, input().split())
result = 0

while True:
  target = (n//k)*k
  result += (n-target)
  n = target

  if n<k:
    break
  
  result+=1
  n//=k

result += n-1
print(result)
